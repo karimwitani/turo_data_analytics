{
 "cells": [
  {
   "cell_type": "markdown",
   "metadata": {},
   "source": [
    "# Imports"
   ]
  },
  {
   "cell_type": "code",
   "execution_count": 1,
   "metadata": {},
   "outputs": [],
   "source": [
    "import pandas as pd\n",
    "import matplotlib\n",
    "import logging\n",
    "\n",
    "from pprint import pprint"
   ]
  },
  {
   "cell_type": "markdown",
   "metadata": {},
   "source": [
    "# Enviroment Setup"
   ]
  },
  {
   "cell_type": "code",
   "execution_count": 5,
   "metadata": {},
   "outputs": [],
   "source": [
    "logging_config = {\n",
    "        'version': 1,\n",
    "        'formatters': {\n",
    "            'default': {\n",
    "                'format': '%(asctime)s - %(levelname)s - %(message)s',\n",
    "                'datefmt': '%Y-%m-%d %H:%M:%S'\n",
    "            }\n",
    "        },\n",
    "        'handlers': {\n",
    "            'console': {\n",
    "                'level': 'DEBUG',\n",
    "                'class': 'logging.StreamHandler',\n",
    "                'formatter': 'default',\n",
    "                'stream': 'ext://sys.stdout'\n",
    "            }\n",
    "        },\n",
    "        'loggers': {\n",
    "            'default': {\n",
    "                'level': 'DEBUG',\n",
    "                'handlers': ['console']\n",
    "            }\n",
    "        },\n",
    "        'disable_existing_loggers': False\n",
    "    }"
   ]
  },
  {
   "cell_type": "code",
   "execution_count": 8,
   "metadata": {},
   "outputs": [],
   "source": [
    "logging.config.dictConfig(logging_config)\n",
    "logger = logging.getLogger('default')"
   ]
  },
  {
   "cell_type": "code",
   "execution_count": 9,
   "metadata": {},
   "outputs": [
    {
     "name": "stdout",
     "output_type": "stream",
     "text": [
      "2023-08-18 20:51:02 - INFO - some bullshit\n"
     ]
    }
   ],
   "source": [
    "logger.info('some bullshit')"
   ]
  },
  {
   "cell_type": "markdown",
   "metadata": {},
   "source": [
    "# Functions, Classes & Constants"
   ]
  },
  {
   "cell_type": "markdown",
   "metadata": {},
   "source": [
    "## Functions"
   ]
  },
  {
   "cell_type": "code",
   "execution_count": 16,
   "metadata": {},
   "outputs": [],
   "source": [
    "def normalize_yearly_earning(df_row: pd.core.series.Series) -> None:\n",
    "    \"\"\"Computes an estimated full year Gross365 for cars that have been on the market\n",
    "    for less than a year\n",
    "    \"\"\"\n",
    "    # pprint(df_row)\n",
    "    if df_row['Days'] > 365:\n",
    "        df_row['Gross365_estimated'] = df_row['Gross365']\n",
    "    else:\n",
    "        try:\n",
    "            df_row['Gross365_estimated'] = df_row['Gross365'] / (365 / df_row['Gross365'])\n",
    "        except ZeroDivisionError:\n",
    "            df_row['Gross365_estimated'] = df_row['Gross365']\n",
    "\n",
    "    return df_row"
   ]
  },
  {
   "cell_type": "markdown",
   "metadata": {},
   "source": [
    "## Classes"
   ]
  },
  {
   "cell_type": "markdown",
   "metadata": {},
   "source": [
    "## Constants"
   ]
  },
  {
   "cell_type": "code",
   "execution_count": 3,
   "metadata": {},
   "outputs": [],
   "source": [
    "turo_data_file = \"/Users/karim/Downloads/Turo-Explorer-Data-montreal-20230818.csv\""
   ]
  },
  {
   "cell_type": "code",
   "execution_count": 4,
   "metadata": {},
   "outputs": [],
   "source": [
    "turo_df = pd.read_csv(turo_data_file)"
   ]
  },
  {
   "cell_type": "markdown",
   "metadata": {},
   "source": [
    "# Workflow 1: Get unique makes (car brands) from data pull"
   ]
  },
  {
   "cell_type": "code",
   "execution_count": 10,
   "metadata": {},
   "outputs": [],
   "source": [
    "all_makes = turo_df[\"Make\"].unique()"
   ]
  },
  {
   "cell_type": "code",
   "execution_count": 11,
   "metadata": {},
   "outputs": [
    {
     "name": "stdout",
     "output_type": "stream",
     "text": [
      "There are 36 car makes in on all_make\n",
      "array(['Ram', 'BMW', 'Chrysler', 'Nissan', 'Toyota', 'FIAT', 'Porsche',\n",
      "       'Mercedes-Benz', 'Audi', 'Hyundai', 'Honda', 'Volkswagen',\n",
      "       'Lincoln', 'Chevrolet', 'Ford', 'Volvo', 'Jeep', 'Subaru', 'Lexus',\n",
      "       'Cadillac', 'Mazda', 'Jaguar', 'Mitsubishi', 'Buick', 'Kia',\n",
      "       'smart', 'Scion', 'Genesis', 'Maserati', 'Dodge', 'MINI', 'Acura',\n",
      "       'Tesla', 'INFINITI', 'Land Rover', 'GMC'], dtype=object)\n"
     ]
    }
   ],
   "source": [
    "print(f\"There are {len(all_makes)} car makes in on all_make\")\n",
    "pprint(all_makes)"
   ]
  },
  {
   "cell_type": "markdown",
   "metadata": {},
   "source": [
    "# Worlflow 2: How many records of each car make in the dataset"
   ]
  },
  {
   "cell_type": "code",
   "execution_count": 12,
   "metadata": {},
   "outputs": [
    {
     "name": "stdout",
     "output_type": "stream",
     "text": [
      "               count percentage\n",
      "Toyota            49      10.3%\n",
      "Honda             42       8.8%\n",
      "Nissan            41       8.6%\n",
      "Hyundai           41       8.6%\n",
      "Mercedes-Benz     30       6.3%\n",
      "Tesla             26       5.5%\n",
      "Kia               24       5.1%\n",
      "BMW               22       4.6%\n",
      "Chevrolet         22       4.6%\n",
      "Volkswagen        21       4.4%\n"
     ]
    },
    {
     "data": {
      "text/plain": [
       "'\\nTo represent value_counts as stats: https://www.statology.org/pandas-value_counts-percentage/#:~:text=You%20can%20use%20the%20value_counts,given%20column%20of%20a%20DataFrame.\\n'"
      ]
     },
     "execution_count": 12,
     "metadata": {},
     "output_type": "execute_result"
    }
   ],
   "source": [
    "unique_makes_counts = turo_df['Make'].value_counts()\n",
    "unique_makes_perc = turo_df['Make'].value_counts(normalize=True).mul(100).round(1).astype(str) + '%'\n",
    "\n",
    "unique_makes_breakdown = pd.concat([unique_makes_counts, unique_makes_perc], axis = 1, keys=['count', 'percentage'])\n",
    "pprint(unique_makes_breakdown[:10])\n",
    "\n",
    "\"\"\"\n",
    "To represent value_counts as stats: https://www.statology.org/pandas-value_counts-percentage/#:~:text=You%20can%20use%20the%20value_counts,given%20column%20of%20a%20DataFrame.\n",
    "\"\"\""
   ]
  },
  {
   "cell_type": "markdown",
   "metadata": {},
   "source": [
    "# Workflow 3: How does daily rate correlate with total yearly revenue\n"
   ]
  },
  {
   "cell_type": "code",
   "execution_count": 13,
   "metadata": {},
   "outputs": [
    {
     "data": {
      "text/plain": [
       "<AxesSubplot:xlabel='Gross365', ylabel='$day'>"
      ]
     },
     "execution_count": 13,
     "metadata": {},
     "output_type": "execute_result"
    },
    {
     "data": {
      "image/png": "[encoded data removed]",
      "text/plain": [
       "<Figure size 640x480 with 1 Axes>"
      ]
     },
     "metadata": {},
     "output_type": "display_data"
    }
   ],
   "source": [
    "turo_df.plot.scatter('Gross365', '$day')"
   ]
  },
  {
   "cell_type": "markdown",
   "metadata": {},
   "source": [
    "There no discernable relation and that is because the data doesn't take into account  \n",
    "how many days the car has been in the market"
   ]
  },
  {
   "cell_type": "markdown",
   "metadata": {},
   "source": [
    "# Worflow 4: What is the distibution of the number of days that the cars have been available?"
   ]
  },
  {
   "cell_type": "code",
   "execution_count": 14,
   "metadata": {},
   "outputs": [
    {
     "data": {
      "text/plain": [
       "<AxesSubplot:ylabel='Frequency'>"
      ]
     },
     "execution_count": 14,
     "metadata": {},
     "output_type": "execute_result"
    },
    {
     "data": {
      "image/png": "[encoded data removed]",
      "text/plain": [
       "<Figure size 640x480 with 1 Axes>"
      ]
     },
     "metadata": {},
     "output_type": "display_data"
    }
   ],
   "source": [
    "\"\"\"\n",
    "Documentation on creating histograms of data distributions:\n",
    "https://sparkbyexamples.com/pandas/plot-distribution-of-column-values-in-pandas/\n",
    "\n",
    "\n",
    "\"\"\"\n",
    "turo_df['Days'].plot(kind='hist', edgecolor='black')"
   ]
  },
  {
   "cell_type": "markdown",
   "metadata": {},
   "source": [
    "# Workflow 5: Normalize Gross365 field for cars that have been on the market for less than a year"
   ]
  },
  {
   "cell_type": "code",
   "execution_count": 17,
   "metadata": {},
   "outputs": [],
   "source": [
    "turo_df = turo_df.apply(normalize_yearly_earning, axis=1)"
   ]
  },
  {
   "cell_type": "markdown",
   "metadata": {},
   "source": [
    "# Workflow 6: Correlation between $rate and Gross365_estimated"
   ]
  },
  {
   "cell_type": "code",
   "execution_count": 18,
   "metadata": {},
   "outputs": [
    {
     "data": {
      "text/plain": [
       "<AxesSubplot:xlabel='Gross365_estimated', ylabel='$day'>"
      ]
     },
     "execution_count": 18,
     "metadata": {},
     "output_type": "execute_result"
    },
    {
     "data": {
      "image/png": "[encoded data removed]",
      "text/plain": [
       "<Figure size 640x480 with 1 Axes>"
      ]
     },
     "metadata": {},
     "output_type": "display_data"
    }
   ],
   "source": [
    "turo_df.plot.scatter('Gross365_estimated', '$day')"
   ]
  },
  {
   "cell_type": "markdown",
   "metadata": {},
   "source": [
    "# Debug"
   ]
  },
  {
   "cell_type": "code",
   "execution_count": 78,
   "metadata": {},
   "outputs": [
    {
     "data": {
      "text/plain": [
       "ID                                                            2139993\n",
       "City                                                        Laval, QC\n",
       "Type                                                              CAR\n",
       "Make                                                            Honda\n",
       "Model                                                           Civic\n",
       "Year                                                             2022\n",
       "Color                                                             NaN\n",
       "Trim                                                            Sport\n",
       "CreatedAt                                                   7/23/2023\n",
       "Days                                                               26\n",
       "Trips                                                               0\n",
       "T/D                                                               0.0\n",
       "$day                                                              250\n",
       "Busy30                                                              0\n",
       "Gross30                                                             0\n",
       "Gross365                                                            0\n",
       "Plan                                                    Turo Standard\n",
       "Favs                                                                0\n",
       "Reviews                                                             0\n",
       "StarHost                                                        False\n",
       "URL                 https://turo.com/ca/en/car-rental/canada/laval...\n",
       "Features            All-wheel drive, Android Auto, Apple CarPlay, ...\n",
       "Avg Market $*                                                 26226.0\n",
       "Depreciation Y1*                                               2297.0\n",
       "Insurance Y*                                                   2270.0\n",
       "Maintenance Y*                                                  767.0\n",
       "Avg Repairs Y*                                                  299.0\n",
       "Name: 100, dtype: object"
      ]
     },
     "execution_count": 78,
     "metadata": {},
     "output_type": "execute_result"
    }
   ],
   "source": [
    "turo_df.loc[100]"
   ]
  },
  {
   "cell_type": "code",
   "execution_count": 13,
   "metadata": {},
   "outputs": [],
   "source": [
    "# len(turo_df) # 475 rows"
   ]
  },
  {
   "cell_type": "code",
   "execution_count": 18,
   "metadata": {},
   "outputs": [
    {
     "data": {
      "text/plain": [
       "\"\\nIndex(['ID', 'City', 'Type', 'Make', 'Model', 'Year', 'Color', 'Trim',\\n       'CreatedAt', 'Days', 'Trips', 'T/D', '$day', 'Busy30', 'Gross30',\\n       'Gross365', 'Plan', 'Favs', 'Reviews', 'StarHost', 'URL', 'Features',\\n       'Avg Market $*', 'Depreciation Y1*', 'Insurance Y*', 'Maintenance Y*',\\n       'Avg Repairs Y*'],\\n      dtype='object')\\n\""
      ]
     },
     "execution_count": 18,
     "metadata": {},
     "output_type": "execute_result"
    }
   ],
   "source": [
    "turo_df.columns\n",
    "\"\"\"\n",
    "Index(['ID', 'City', 'Type', 'Make', 'Model', 'Year', 'Color', 'Trim',\n",
    "       'CreatedAt', 'Days', 'Trips', 'T/D', '$day', 'Busy30', 'Gross30',\n",
    "       'Gross365', 'Plan', 'Favs', 'Reviews', 'StarHost', 'URL', 'Features',\n",
    "       'Avg Market $*', 'Depreciation Y1*', 'Insurance Y*', 'Maintenance Y*',\n",
    "       'Avg Repairs Y*'],\n",
    "      dtype='object')\n",
    "\"\"\"\n"
   ]
  },
  {
   "cell_type": "code",
   "execution_count": 19,
   "metadata": {},
   "outputs": [
    {
     "data": {
      "text/plain": [
       "2970195.8246575342"
      ]
     },
     "execution_count": 19,
     "metadata": {},
     "output_type": "execute_result"
    }
   ],
   "source": [
    "max(turo_df['Gross365_estimated'])"
   ]
  },
  {
   "cell_type": "code",
   "execution_count": 36,
   "metadata": {},
   "outputs": [
    {
     "data": {
      "text/html": [
       "<div>\n",
       "<style scoped>\n",
       "    .dataframe tbody tr th:only-of-type {\n",
       "        vertical-align: middle;\n",
       "    }\n",
       "\n",
       "    .dataframe tbody tr th {\n",
       "        vertical-align: top;\n",
       "    }\n",
       "\n",
       "    .dataframe thead th {\n",
       "        text-align: right;\n",
       "    }\n",
       "</style>\n",
       "<table border=\"1\" class=\"dataframe\">\n",
       "  <thead>\n",
       "    <tr style=\"text-align: right;\">\n",
       "      <th></th>\n",
       "      <th>Days</th>\n",
       "      <th>Trips</th>\n",
       "      <th>Gross365</th>\n",
       "      <th>Make</th>\n",
       "      <th>$day</th>\n",
       "    </tr>\n",
       "  </thead>\n",
       "  <tbody>\n",
       "    <tr>\n",
       "      <th>458</th>\n",
       "      <td>73</td>\n",
       "      <td>3</td>\n",
       "      <td>2447</td>\n",
       "      <td>BMW</td>\n",
       "      <td>150</td>\n",
       "    </tr>\n",
       "  </tbody>\n",
       "</table>\n",
       "</div>"
      ],
      "text/plain": [
       "     Days  Trips  Gross365 Make  $day\n",
       "458    73      3      2447  BMW   150"
      ]
     },
     "execution_count": 36,
     "metadata": {},
     "output_type": "execute_result"
    }
   ],
   "source": [
    "\n",
    "temp_record_2065086 = turo_df[turo_df['ID']==2065086]\n",
    "temp_record_2065086[['Days', 'Trips', 'Gross365','Make','$day']]"
   ]
  },
  {
   "cell_type": "code",
   "execution_count": 39,
   "metadata": {},
   "outputs": [
    {
     "data": {
      "text/plain": [
       "5.437777777777778"
      ]
     },
     "execution_count": 39,
     "metadata": {},
     "output_type": "execute_result"
    }
   ],
   "source": [
    "2447/150/3"
   ]
  },
  {
   "cell_type": "markdown",
   "metadata": {},
   "source": []
  }
 ],
 "metadata": {
  "kernelspec": {
   "display_name": "venv",
   "language": "python",
   "name": "python3"
  },
  "language_info": {
   "codemirror_mode": {
    "name": "ipython",
    "version": 3
   },
   "file_extension": ".py",
   "mimetype": "text/x-python",
   "name": "python",
   "nbconvert_exporter": "python",
   "pygments_lexer": "ipython3",
   "version": "3.7.9"
  },
  "orig_nbformat": 4
 },
 "nbformat": 4,
 "nbformat_minor": 2
}
